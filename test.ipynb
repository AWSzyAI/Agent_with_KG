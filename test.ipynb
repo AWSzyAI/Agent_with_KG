{
 "cells": [
  {
   "cell_type": "code",
   "execution_count": null,
   "metadata": {
    "vscode": {
     "languageId": "plaintext"
    }
   },
   "outputs": [],
   "source": [
    "import os\n",
    "import re\n",
    "\n",
    "def clean_tree_line(line: str) -> str:\n",
    "    \"\"\"Cleans up special characters like ── from tree output.\"\"\"\n",
    "    return re.sub(r'[│├└─]+', '', line).strip()\n",
    "\n",
    "def create_project_structure(tree_structure: str, base_path: str):\n",
    "    lines = tree_structure.strip().split(\"\\n\")\n",
    "    stack = [(base_path, -1)]  # Stack holds (directory path, indent level)\n",
    "    \n",
    "    for line in lines:\n",
    "        cleaned_line = clean_tree_line(line)\n",
    "        indent_level = len(line) - len(line.lstrip())\n",
    "        \n",
    "        while stack and stack[-1][1] >= indent_level:\n",
    "            stack.pop()\n",
    "        \n",
    "        current_dir = stack[-1][0]\n",
    "        current_path = os.path.join(current_dir, cleaned_line)\n",
    "        \n",
    "        if '.' in cleaned_line:  # It's a file\n",
    "            with open(current_path, \"w\") as f:\n",
    "                f.write(\"\")\n",
    "        else:  # It's a directory\n",
    "            os.makedirs(current_path, exist_ok=True)\n",
    "            stack.append((current_path, indent_level))\n",
    "\n",
    "if __name__ == \"__main__\":\n",
    "    tree_input = \"\"\"project-root/\n",
    "    ├── frontend/\n",
    "    │   ├── public/\n",
    "    │   ├── src/\n",
    "    │   │   ├── components/\n",
    "    │   │   │   ├── ChatInterface.tsx\n",
    "    │   │   │   ├── KnowledgeGraph.tsx\n",
    "    │   │   │   └── Sidebar.tsx\n",
    "    │   │   ├── api/\n",
    "    │   │   │   └── client.ts\n",
    "    │   │   ├── types/\n",
    "    │   │   │   └── types.ts\n",
    "    │   │   ├── App.tsx\n",
    "    │   │   └── index.tsx\n",
    "    │   ├── package.json\n",
    "    │   └── tsconfig.json\n",
    "    ├── backend/\n",
    "    │   ├── main.py\n",
    "    │   ├── file_processor/\n",
    "    │   │   ├── pdf_processor.py\n",
    "    │   │   ├── md_processor.py\n",
    "    │   │   └── json_processor.py\n",
    "    │   ├── knowledge_graph/\n",
    "    │   │   ├── graph_builder.py\n",
    "    │   │   └── spacy_models/\n",
    "    │   ├── models/\n",
    "    │   │   └── schemas.py\n",
    "    │   └── requirements.txt\n",
    "    └── docker-compose.yml\"\"\"\n",
    "    \n",
    "    base_directory = \"project-root\"\n",
    "    os.makedirs(base_directory, exist_ok=True)\n",
    "    create_project_structure(tree_input, base_directory)\n",
    "    print(f\"Project structure created at {base_directory}/\")"
   ]
  }
 ],
 "metadata": {
  "language_info": {
   "name": "python"
  }
 },
 "nbformat": 4,
 "nbformat_minor": 2
}
